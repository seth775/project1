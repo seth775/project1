{
 "cells": [
  {
   "cell_type": "markdown",
   "metadata": {},
   "source": [
    "# Project 1 : Python"
   ]
  },
  {
   "cell_type": "markdown",
   "metadata": {},
   "source": [
    "## Instructions\n",
    "\n",
    "### Description\n",
    "\n",
    "Below are a random assortment of exercises to practice using Python, some fairly trivial, and and some more challenging.\n",
    "\n",
    "### Instructions\n",
    "\n",
    "In each problem, you are given a sample input in one cell, and asked to create code in the following cell to process the input in some way.  Since we won't study functions and lambdas until after this is assigned, you do not need to create functions (or lambdas) to solve any of these - just a few lines of code using the variable provided in the input cell (be sure to execute the input cell before trying your code!)\n",
    "\n",
    "Unless specified, you are free to solve the problems in any way you are comfortable, including using Python libraries you are familiar with (but all of these are solvable just using Python's built-in features, plus maybe the `math` library).  The more concise your problem, the better (in general) and easier for us to grade!\n",
    "\n",
    "### Grading\n",
    "\n",
    "For grading purposes, we will clear all outputs from all your cells and then run them all from the top.  Please test your notebook in the same fashion before turning it in.\n",
    "\n",
    "### Submitting Your Solution\n",
    "\n",
    "To submit your notebook, first clear all the cells (this won't matter too much this time, but for larger data sets in the future, it will make the file smaller).  Then use the File->Download As->Notebook to obtain the notebook file.  Finally, submit the notebook file on Canvas.\n",
    "\n",
    "### Hints\n",
    "\n",
    "- The sample inputs we give you below may be hard to work with.  Open up new cells in this or another notebook and test simpler inputs, if needed, to make debugging easier.\n",
    "- Often times Python provides a built-in function or library to make tasks easier.  Spend some time in the Python docs (or Google) searching for what you need.\n",
    "- While comprehensions, slices, and other Python \"goodies\" often provide the most elegant solution, it is often easier (when used to other languages) to start with a `for` loop solution, and then migrate that solution."
   ]
  },
  {
   "cell_type": "markdown",
   "metadata": {},
   "source": [
    "---\n",
    "\n",
    "#### Problem 1: Basic Statistics (20 points)\n",
    "\n",
    "Given the list `numbers` containing (surprise!) numbers, calculate the following statistics on the list: maximum, minimum, sample mean (average), and the standard deviation (use the *corrected sample standard deviation*, i.e., the square root of the unbiased sample variance. If you aren't familiar with the corrected sample standard deviation, see https://en.wikipedia.org/wiki/Standard_deviation#Corrected_sample_standard_deviation.).  You'll need to `import math` to get access to the `math.sqrt()` function.\n",
    "\n",
    "Print the result in the format (not with these numbers!)\n",
    "```\n",
    "max: 7.312234\n",
    "min: -1.4124\n",
    "avg: 0.11030\n",
    "std: 7.313214 \n",
    "```"
   ]
  },
  {
   "cell_type": "code",
   "execution_count": null,
   "metadata": {},
   "outputs": [],
   "source": [
    "numbers = [0.25, 0.33, 0.82, 1.41, 3.16, -0.17, -1.98, 1.91, 1.22, -4.18, \n",
    "           1.09, 1.64, 2.53, -0.03, -2.19, -0.21, -2.98, -1.34, 2.12, 4.51]"
   ]
  },
  {
   "cell_type": "code",
   "execution_count": null,
   "metadata": {},
   "outputs": [],
   "source": [
    "import math\n",
    "\n",
    "numbers = [0.25, 0.33, 0.82, 1.41, 3.16, -0.17, -1.98, 1.91, 1.22, -4.18, \n",
    "           1.09, 1.64, 2.53, -0.03, -2.19, -0.21, -2.98, -1.34, 2.12, 4.51]\n",
    "\n",
    "mean = sum(numbers) / len(numbers) # Mean is used in standard deviation calculation\n",
    "\n",
    "# Corrected sample standard deviation including; the difference squared & the variance\n",
    "diff_sqrd = [(x - mean) ** 2 for x in numbers]\n",
    "variance = sum(diff_sqrd) / len(numbers)\n",
    "stnd_dev = variance ** 0.5\n",
    "\n",
    "maximum = max(numbers)\n",
    "minimum = min(numbers)\n",
    "\n",
    "print(\"Max:\", maximum)\n",
    "print(\"Min:\", minimum)\n",
    "print(\"Avg:\", mean)\n",
    "print(\"Std:\", stnd_dev)\n"
   ]
  },
  {
   "cell_type": "markdown",
   "metadata": {},
   "source": [
    "---\n",
    "#### Problem 2: Odds and Evens (20 points)\n",
    "Given a list of items named `original`, separate the odds from the evens by moving all odds to the front of the list and all evens to the back. Print the final list. A simple way to do this is to create a new, empty list and add elements to it. But if you want, you can operate directly on the original list, which requires a bit more planning."
   ]
  },
  {
   "cell_type": "code",
   "execution_count": null,
   "metadata": {},
   "outputs": [],
   "source": [
    "\n",
    "original = [22, 23, 30, 38, 7, 10, 8, 48, 7, 29, 16, 35, 43, 39, 32, 25, 38, 48, 18, 18]\n",
    "\n",
    "# new lists made for both odds and evens\n",
    "odd = []\n",
    "even = []\n",
    "\n",
    "for num in original: \n",
    "    if num % 2 == 0:    # calculates the remainder of each number when divided by two (even if remainder == 0)\n",
    "        even.append(num)\n",
    "    else:\n",
    "        odd.append(num) # if remainder is not zero it will append as odd \n",
    "        \n",
    "final_list = odd + even  # adds and combines new lists into one final list\n",
    "    \n",
    "print(\"Final Organized List:\", final_list)\n",
    "\n"
   ]
  },
  {
   "cell_type": "markdown",
   "metadata": {},
   "source": [
    "---\n",
    "#### Problem 3: Word Counts (10 points)\n",
    "\n",
    "The string method `split` can be used to separate a text on specified delimiters, giving you a list of substrings.  By default, it separates on whitespace, thus giving you all the individual non-whitespace substrings in the text.  (Don't forget you can do \n",
    "```\n",
    "help(str.split)\n",
    "```\n",
    "in a cell for more info.)\n",
    "\n",
    "For this problem, take the text in the variable `text` and make and print a dictionary where each word from the text exists as a key, and where the corresponding values are the number of times the word appears in the text.  For now, you can ignore issues of punctuation and case.\n",
    "\n",
    "For example, the text 'it was the best of times it was the worst of times' would result in the output\n",
    "```\n",
    "{'it': 2, 'was': 2, 'the': 2, 'worst': 1, 'times': 2, 'best': 1, 'of': 2}\n",
    "```\n"
   ]
  },
  {
   "cell_type": "code",
   "execution_count": null,
   "metadata": {},
   "outputs": [],
   "source": [
    "# From Dr. Seuss's Fox in Socks (punctuation stripped)\n",
    "text = '''\n",
    "When beetles battle beetles in a puddle paddle battle \n",
    "and the beetle battle puddle is a puddle in a bottle\n",
    "they call this a tweetle beetle bottle puddle paddle battle muddle\n",
    "'''"
   ]
  },
  {
   "cell_type": "code",
   "execution_count": null,
   "metadata": {},
   "outputs": [],
   "source": [
    "text = '''when beetles battle beetles in a puddle paddle battle \n",
    "and the beetle battle puddle is a puddle in a bottle\n",
    "they call this a tweetle beetle bottle puddle paddle battle muddle'''\n",
    "\n",
    "words = text.split() #splits into a list of individual words \n",
    "\n",
    "word_dict = {} #creates new dictionary\n",
    "\n",
    "for word in words:\n",
    "    if word in word_dict:\n",
    "        word_dict[word] += 1 #increases the count of a word each time its in the loop\n",
    "    else:\n",
    "        word_dict[word] = 1\n",
    "        \n",
    "formatted_dict = {word: count for word, count in word_dict.items()} #to achieve the expected format revisions were made to the structure of word_dict\n",
    "\n",
    "print(formatted_dict)\n",
    "\n"
   ]
  },
  {
   "cell_type": "markdown",
   "metadata": {},
   "source": [
    "---\n",
    "#### Problem 4: Comprehensible? (10 points)\n",
    "\n",
    "***Note:* For this problem you are required to use a list comprehension as part of your solution.**\n",
    "\n",
    "You are given a dictionary named `d` where the keys are words and the values are integers.  The output should be a list where each entry is a string containing a key from the dictionary replicated a number of times according to the corresponding value.  The output should be in sorted order by key.  For example, if the dictionary is\n",
    "```\n",
    "{'foo' : 3, 'bar' : 2}\n",
    "```\n",
    "the output should be\n",
    "```\n",
    "['barbar', 'foofoofoo']\n",
    "```\n",
    "*Hint:* try \"multiplying\" a sequence (like a string) by an integer using `*`.  See if you can do this one in a single line of code!"
   ]
  },
  {
   "cell_type": "code",
   "execution_count": null,
   "metadata": {},
   "outputs": [],
   "source": [
    "d = {\n",
    "    'pear' : 5,\n",
    "    'kiwi' : 3,\n",
    "    'papaya' : 2,\n",
    "    'lemon' : 4,\n",
    "    'cherry' : 1\n",
    "}"
   ]
  },
  {
   "cell_type": "code",
   "execution_count": null,
   "metadata": {},
   "outputs": [],
   "source": [
    "d = {\n",
    "    'pear': 5,\n",
    "    'kiwi': 3,\n",
    "    'papaya': 2,\n",
    "    'lemon': 4,\n",
    "    'cherry': 1\n",
    "}\n",
    "\n",
    "output = [key * value for key, value in sorted(d.items())]\n",
    "\n",
    "print(output)\n"
   ]
  },
  {
   "cell_type": "markdown",
   "metadata": {},
   "source": [
    "---\n",
    "#### Problem 5: Convergence (15 points)\n",
    "\n",
    "Given a number $\\theta$, compute $\\cos(\\theta)$ via the Taylor series approximation for the cosine.  Without getting too heavy into numerical methods here, we're just going to say that we have sufficient precision when the last term added to the result is smaller in magnitude than $10^{-15}$.\n",
    "\n",
    "The Taylor series expansion for $\\cos(x)$ is\n",
    "\n",
    "$$ \\begin{align}\n",
    "   \\cos(x) & = \\sum_{n = 0}^\\infty (-1)^n \\frac{x^{2n}}{(2n)!} \\\\\n",
    "           & = 1 - \\frac{x^2}{2!} + \\frac{x^4}{4!} - \\frac{x^6}{6!} + \\dots \n",
    "   \\end{align} $$\n",
    "   \n",
    "Don't forget to check what the `math` library has available - try the tab-completion trick!"
   ]
  },
  {
   "cell_type": "code",
   "execution_count": null,
   "metadata": {},
   "outputs": [],
   "source": [
    "import math\n",
    "theta = math.pi / 6"
   ]
  },
  {
   "cell_type": "code",
   "execution_count": null,
   "metadata": {},
   "outputs": [],
   "source": [
    "import math\n",
    "\n",
    "def cosine(Θ):\n",
    "    result = 1.0  # Stores the running sum of the Taylor Series\n",
    "    term = 1.0  # Represents the Taylor Series starting as 1\n",
    "    n = 2  # Starts the second term of the Taylor Series and tracks Θ\n",
    "\n",
    "    while abs(term) >= 1e-15:  # Limits the series to the specified magnitude\n",
    "        term *= -Θ * Θ / (n * (n - 1))  # Calculates the next term in the Taylor Series\n",
    "        result += term  # Adds results to the term\n",
    "        n += 2  # Adds 2 to n\n",
    "\n",
    "    return result\n",
    "\n",
    "Θ = math.pi / 6\n",
    "answer = cosine(Θ)\n",
    "\n",
    "print(\"cos(Θ)=\", answer)"
   ]
  },
  {
   "cell_type": "code",
   "execution_count": null,
   "metadata": {},
   "outputs": [],
   "source": []
  }
 ],
 "metadata": {
  "kernelspec": {
   "display_name": "Python 3 (ipykernel)",
   "language": "python",
   "name": "python3"
  },
  "language_info": {
   "codemirror_mode": {
    "name": "ipython",
    "version": 3
   },
   "file_extension": ".py",
   "mimetype": "text/x-python",
   "name": "python",
   "nbconvert_exporter": "python",
   "pygments_lexer": "ipython3",
   "version": "3.11.4"
  }
 },
 "nbformat": 4,
 "nbformat_minor": 2
}
